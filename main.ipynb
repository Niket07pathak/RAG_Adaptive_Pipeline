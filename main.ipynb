{
 "cells": [
  {
   "cell_type": "code",
   "execution_count": 304,
   "id": "65aa5010",
   "metadata": {},
   "outputs": [],
   "source": [
    "import os\n",
    "os.environ[\"COHERE_API_KEY\"] = 'U7e2tqNo5w6LcWgggi9RHyq26s7FPNnmy2OKiOED'\n",
    "os.environ['LANGCHAIN_TRACING_V2'] = 'true'\n",
    "os.environ['LANGCHAIN_ENDPOINT'] = 'https://api.smith.langchain.com'\n",
    "os.environ['LANGCHAIN_API_KEY'] ='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'"
   ]
  },
  {
   "cell_type": "code",
   "execution_count": 326,
   "id": "de0b9466",
   "metadata": {},
   "outputs": [],
   "source": [
    "from langchain.document_loaders import PyPDFDirectoryLoader\n",
    "from langchain.text_splitter import RecursiveCharacterTextSplitter\n",
    "\n",
    "#loading the documents from the folder\n",
    "loader = PyPDFDirectoryLoader(\"data/\")\n",
    "docs = loader.load()\n",
    "split_text=RecursiveCharacterTextSplitter.from_tiktoken_encoder(\n",
    "    chunk_size=512,\n",
    "    chunk_overlap=0\n",
    ")\n",
    "\n",
    "split_doc=split_text.split_documents(docs)"
   ]
  },
  {
   "cell_type": "code",
   "execution_count": 327,
   "id": "002c744d",
   "metadata": {},
   "outputs": [],
   "source": [
    "from langchain_cohere import CohereEmbeddings\n",
    "from langchain_community.vectorstores import Chroma\n",
    "\n",
    "cembed=CohereEmbeddings(model=\"embed-english-v3.0\")\n",
    "\n",
    "vec_store=Chroma.from_documents(\n",
    "    documents=split_doc,\n",
    "    embedding=cembed\n",
    ")\n"
   ]
  },
  {
   "cell_type": "code",
   "execution_count": 328,
   "id": "1f451547",
   "metadata": {},
   "outputs": [],
   "source": [
    "retriever = vec_store.as_retriever()"
   ]
  },
  {
   "cell_type": "code",
   "execution_count": 329,
   "id": "23357957",
   "metadata": {},
   "outputs": [],
   "source": [
    "from pydantic import BaseModel, Field\n"
   ]
  },
  {
   "cell_type": "markdown",
   "id": "7a4119ef",
   "metadata": {},
   "source": [
    "#ROuter"
   ]
  },
  {
   "cell_type": "code",
   "execution_count": 330,
   "id": "231d22af",
   "metadata": {},
   "outputs": [],
   "source": [
    "from langchain_cohere import ChatCohere\n",
    "from langchain_core.prompts import ChatPromptTemplate\n",
    "# from langchain_core.pydantic_v1 import BaseModel,Field\n",
    "\n",
    "class search_web(BaseModel):\n",
    "    \"\"\"Use web_search for all general queries not covered in the documents.\"\"\"\n",
    "    query: str = Field(description=\"The query to search on the internet.\")\n",
    "\n",
    "class vector_store(BaseModel):\n",
    "    \"\"\"Use vectorstore for questions on Agentic AI.\"\"\"\n",
    "    query: str = Field(description=\"The query to retrieve from the RAG vectorstore.\")\n",
    "\n",
    "\n",
    "\n",
    "    "
   ]
  },
  {
   "cell_type": "code",
   "execution_count": 331,
   "id": "ea6a64a9",
   "metadata": {},
   "outputs": [],
   "source": [
    "preamble = \"\"\"You are a router. Direct the user query to the appropriate tool based on topic relevance.\n",
    "\n",
    "Use the **vectorstore** if the user’s question relates to any of the following topics discussed in the documents:\n",
    "\n",
    "- Agentic AI systems and architectures\n",
    "- The role and future of Small Language Models (SLMs) in Agentic AI\n",
    "- Economic, legal, and operational implications of deploying Agentic AI\n",
    "- Prompt engineering, tool use, and modular AI agent design\n",
    "- Adversarial attacks or robustness concerns in LLM-based agents\n",
    "\n",
    "Use **web_search** if the question is unrelated to these domains or requires real-time, general, or external web information.\n",
    "\n",
    "\"\"\"\n"
   ]
  },
  {
   "cell_type": "code",
   "execution_count": null,
   "id": "53591eba",
   "metadata": {},
   "outputs": [],
   "source": []
  },
  {
   "cell_type": "code",
   "execution_count": 332,
   "id": "ec88f0b5",
   "metadata": {},
   "outputs": [],
   "source": [
    "llm = ChatCohere(model=\"command-r\",temperature=0)\n",
    "\n",
    "llm_router=llm.bind_tools(\n",
    "    tools=[search_web,vector_store] , preamble=preamble\n",
    ")"
   ]
  },
  {
   "cell_type": "markdown",
   "id": "d838880e",
   "metadata": {},
   "source": [
    "#This is testing purpose"
   ]
  },
  {
   "cell_type": "code",
   "execution_count": 333,
   "id": "7d5d25b3",
   "metadata": {},
   "outputs": [],
   "source": [
    "prompt= ChatPromptTemplate.from_messages([(\"human\", \"{question}\")])"
   ]
  },
  {
   "cell_type": "code",
   "execution_count": 334,
   "id": "ce1f3bc3",
   "metadata": {},
   "outputs": [],
   "source": [
    "ques_chain = prompt | llm_router"
   ]
  },
  {
   "cell_type": "code",
   "execution_count": 335,
   "id": "5b682289",
   "metadata": {},
   "outputs": [
    {
     "name": "stdout",
     "output_type": "stream",
     "text": [
      "[{'id': 'vector_store_6gfw0t18qckh', 'type': 'function', 'function': {'name': 'vector_store', 'arguments': '{\"query\":\"content made by agentic AI ownership\"}'}}]\n"
     ]
    }
   ],
   "source": [
    "response = ques_chain.invoke(\n",
    "    {\"question\": \"Who owns the content made by agentic AI?\"}\n",
    ")\n",
    "print(response.response_metadata[\"tool_calls\"])\n",
    "\n"
   ]
  },
  {
   "cell_type": "code",
   "execution_count": 336,
   "id": "d1df3a4c",
   "metadata": {},
   "outputs": [],
   "source": [
    "from typing import Literal\n"
   ]
  },
  {
   "cell_type": "code",
   "execution_count": 337,
   "id": "948df688",
   "metadata": {},
   "outputs": [],
   "source": [
    "### Retrieval Grader\n",
    "\n",
    "\n",
    "# Data model\n",
    "class DocGrade(BaseModel):\n",
    "    relevance_label: Literal[\"yes\", \"no\"] = Field(\n",
    "        description=\"Only respond with 'yes' or 'no' — is the document relevant to the question?\"\n",
    "    )\n",
    "\n"
   ]
  },
  {
   "cell_type": "code",
   "execution_count": 338,
   "id": "f2c6b48a",
   "metadata": {},
   "outputs": [],
   "source": [
    "preamble = \"\"\"\n",
    "You are a grader assessing the relevance of a retrieved document to a user question.\n",
    "\n",
    "Relevance means that the document either:\n",
    "- Contains **keywords or phrases** from the question, OR\n",
    "- Has **semantic similarity** in meaning or intent to the question.\n",
    "\n",
    "You must assign a **binary relevance score**:\n",
    "- Respond `\"yes\"` if the document directly addresses or answers the question.\n",
    "- Respond `\"no\"` if it does not clearly relate to the question.\n",
    "\n",
    "Respond with only `\"yes\"` or `\"no\"` — no explanations or other values are allowed.\n",
    "\"\"\"\n"
   ]
  },
  {
   "cell_type": "code",
   "execution_count": 358,
   "id": "df591b4e",
   "metadata": {},
   "outputs": [
    {
     "name": "stdout",
     "output_type": "stream",
     "text": [
      "relevance_label='yes'\n"
     ]
    }
   ],
   "source": [
    "\n",
    "# LLM with function call\n",
    "llm = ChatCohere(model=\"command-r\", temperature=0)\n",
    "structured_llm_grader = llm.with_structured_output(DocGrade, preamble=preamble)\n",
    "\n",
    "grade_prompt = ChatPromptTemplate.from_messages(\n",
    "    [\n",
    "        (\"human\", \"Retrieved document: \\n\\n {document} \\n\\n User question: {question}\"),\n",
    "    ]\n",
    ")\n",
    "\n",
    "retrieval_grader = grade_prompt | structured_llm_grader\n",
    "question = \"According to U.S. Copyright Office policy in 2023, can works generated solely by AI be copyrighted\"\n",
    "docs = retriever.invoke(question)\n",
    "doc_txt = docs[1].page_content\n",
    "response = retrieval_grader.invoke({\"question\": question, \"document\": doc_txt})\n",
    "print(response)\n"
   ]
  },
  {
   "cell_type": "code",
   "execution_count": 359,
   "id": "effdcfec",
   "metadata": {},
   "outputs": [
    {
     "name": "stdout",
     "output_type": "stream",
     "text": [
      "thereby creating significant ambiguity regarding the ownership of outputs from fully autonomous \n",
      "agentic AI systems.\n",
      "A case in point is DABUS, an AI system that generated novel inventions (a food container \n",
      "and a flashing beacon). Patent applications naming DABUS as the inventor triggered legal battles \n",
      "around the world. Thus far, patent offices and courts in major jurisdictions (US, UK, EU) have \n",
      "rejected AI inventorship, insisting that inventors must be natural persons. For instance, the US \n",
      "Federal Circuit in Thaler v. Vidal (2022) affirmed that under current statutes, only humans can be \n",
      "inventors.2 The European Patent Office and UK Patent Office reached similar conclusions.3 \n",
      "However, notable outliers exist: South Africa granted a patent with DABUS as inventor (albeit via a \n",
      "formality with no substantive examination).4 In Australia, the Federal Court (2021) initially ruled \n",
      "that AI could be an inventor under its law,5 but this was later overturned on appeal by the Full \n",
      "Federal Court of Australia in 2022.6 These divergent outcomes have spurred a rich body of \n",
      "literature. Kim (2020), for example, clarifies misconceptions in the AI inventor debate, urging that \n",
      "we “get the record straight” on how patent criteria apply when AI is involved. \n",
      "Moreover, this ambiguity is not new. Scholars have long questioned whether traditional \n",
      "copyright frameworks—built around the notion of the human creator—can fully capture works \n",
      "generated entirely by algorithmic processes (see, e.g., Samuelson, 1985; Jaszi, 2017). Bridy (2012), \n",
      "for example, challenges the entrenched assumption of uniquely human authorship by arguing that \n",
      "creativity itself is inherently algorithmic. She illustrates that even what we typically consider \n",
      "“human” creativity operates through rules and structured processes, suggesting that works produced \n",
      "autonomously by computers are not as alien to our creative paradigms as conventional law \n",
      "presumes. Her analysis underscores that, if the law is to remain relevant in an era increasingly \n",
      "2 Thaler v. Vidal, 43 F.4th 1207 (Fed. Cir. 2022).\n",
      "3 J 8/20 (EPO Board of Appeal, 2021); Thaler v. Comptroller-General of Patents, Designs, and Trademarks [2021]\n"
     ]
    }
   ],
   "source": [
    "print(doc_txt)"
   ]
  },
  {
   "cell_type": "code",
   "execution_count": 360,
   "id": "7a6278da",
   "metadata": {},
   "outputs": [],
   "source": [
    "from langchain_core.messages import HumanMessage\n",
    "from langchain_core.output_parsers import StrOutputParser\n",
    "\n",
    "preamble = \"\"\"You are an assistant for question-answering tasks. Use the following pieces of retrieved context to answer the question. If you don't know the answer, just say that you don't know. Use three sentences maximum and keep the answer concise.\"\"\"\n",
    "\n",
    "\n",
    "llm = ChatCohere(model=\"command-r\",temperature=0).bind(preamble=preamble)"
   ]
  },
  {
   "cell_type": "code",
   "execution_count": 361,
   "id": "8e0db06b",
   "metadata": {},
   "outputs": [],
   "source": [
    "def prompt(x):\n",
    "    return ChatPromptTemplate.from_messages(\n",
    "        [\n",
    "            HumanMessage(\n",
    "                f\"Question: {x['question']} \\nAnswer: \",\n",
    "                additional_kwargs={\"documents\": x[\"documents\"]},\n",
    "            )\n",
    "        ]\n",
    "    )"
   ]
  },
  {
   "cell_type": "code",
   "execution_count": 362,
   "id": "fbb6b1c1",
   "metadata": {},
   "outputs": [
    {
     "name": "stdout",
     "output_type": "stream",
     "text": [
      "According to current U.S. Copyright Office policy, works generated solely by AI cannot be copyrighted. The law insists that inventors must be natural persons. However, the ownership of AI-generated works is a subject of much debate, with several notable outliers in the patenting of such inventions.\n"
     ]
    }
   ],
   "source": [
    "gen_chain = prompt | llm | StrOutputParser()\n",
    "\n",
    "generation = gen_chain.invoke({\"documents\": docs, \"question\": question})\n",
    "print(generation)"
   ]
  },
  {
   "cell_type": "code",
   "execution_count": null,
   "id": "27bc53ce",
   "metadata": {},
   "outputs": [
    {
     "name": "stdout",
     "output_type": "stream",
     "text": [
      "Hello! I'm doing well, thank you for asking. How can I assist you today?\n"
     ]
    }
   ],
   "source": [
    "preamble = \"\"\"\n",
    "You are an assistant for question-answering tasks.\n",
    "\n",
    "Answer the user's question based on your general knowledge only — do not assume access to any external documents or context.\n",
    "\n",
    "Keep your answer concise and limited to a maximum of three sentences.\n",
    "If you are unsure or lack enough information, say \"I don't know.\"\n",
    "\n",
    "\"\"\"\n",
    "\n",
    "def prompt(x):\n",
    "    return ChatPromptTemplate.from_messages(\n",
    "        [HumanMessage(f\"Question: {x['question']} \\nAnswer: \")]\n",
    "    )\n",
    "\n",
    "llm_chain_fall_back = prompt | llm | StrOutputParser()\n",
    "\n",
    "# Run\n",
    "question_fall_back = \"Hi how are you?\"\n",
    "generation_fall_back = llm_chain_fall_back.invoke({\"question\": question_fall_back})\n",
    "print(generation_fall_back)\n"
   ]
  },
  {
   "cell_type": "code",
   "execution_count": 370,
   "id": "6424e05b",
   "metadata": {},
   "outputs": [
    {
     "data": {
      "text/plain": [
       "GradeHallucinations(binary_label='yes')"
      ]
     },
     "execution_count": 370,
     "metadata": {},
     "output_type": "execute_result"
    }
   ],
   "source": [
    "\n",
    "class GradeHallucinations(BaseModel):\n",
    "    \"\"\"Binary score for hallucination presence in the generated answer.\"\"\"\n",
    "    binary_label: Literal[\"yes\", \"no\"] = Field(\n",
    "        description=\"Respond only with 'yes' if the answer is grounded in the facts, 'no' if it is not\"\n",
    "    )\n",
    "\n",
    "\n",
    "preamble = \"\"\"\n",
    "You are a grader assessing whether a language model's answer is grounded in the given set of facts.\n",
    "\n",
    "Respond:\n",
    "- 'yes' → if the answer is fully supported by the facts.\n",
    "- 'no' → if any part of the answer is not supported by the facts.\n",
    "\n",
    "You MUST respond only with 'yes' or 'no'. Do not add any explanation or alternative labels.\n",
    "\"\"\"\n",
    "\n",
    "\n",
    "# LLM with function call\n",
    "llm = ChatCohere(model=\"command-r\", temperature=0)\n",
    "structured_llm_grader = llm.with_structured_output(\n",
    "    GradeHallucinations, preamble=preamble\n",
    ")\n",
    "\n",
    "# Prompt\n",
    "hallucination_prompt = ChatPromptTemplate.from_messages(\n",
    "    [\n",
    "        # (\"system\", system),\n",
    "        (\"human\", \"Set of facts: \\n\\n {documents} \\n\\n LLM generation: {generation}\"),\n",
    "    ]\n",
    ")\n",
    "documents = \"\\n\\n\".join([doc.page_content for doc in docs])\n",
    "\n",
    "\n",
    "hallucination_grader = hallucination_prompt | structured_llm_grader\n",
    "hallucination_grader.invoke({\"documents\": documents, \"generation\": generation})"
   ]
  },
  {
   "cell_type": "code",
   "execution_count": 371,
   "id": "4bcd5778",
   "metadata": {},
   "outputs": [
    {
     "name": "stdout",
     "output_type": "stream",
     "text": [
      "thereby creating significant ambiguity regarding the ownership of outputs from fully autonomous \n",
      "agentic AI systems.\n",
      "A case in point is DABUS, an AI system that generated novel inventions (a food container \n",
      "and a flashing beacon). Patent applications naming DABUS as the inventor triggered legal battles \n",
      "around the world. Thus far, patent offices and courts in major jurisdictions (US, UK, EU) have \n",
      "rejected AI inventorship, insisting that inventors must be natural persons. For instance, the US \n",
      "Federal Circuit in Thaler v. Vidal (2022) affirmed that under current statutes, only humans can be \n",
      "inventors.2 The European Patent Office and UK Patent Office reached similar conclusions.3 \n",
      "However, notable outliers exist: South Africa granted a patent with DABUS as inventor (albeit via a \n",
      "formality with no substantive examination).4 In Australia, the Federal Court (2021) initially ruled \n",
      "that AI could be an inventor under its law,5 but this was later overturned on appeal by the Full \n",
      "Federal Court of Australia in 2022.6 These divergent outcomes have spurred a rich body of \n",
      "literature. Kim (2020), for example, clarifies misconceptions in the AI inventor debate, urging that \n",
      "we “get the record straight” on how patent criteria apply when AI is involved. \n",
      "Moreover, this ambiguity is not new. Scholars have long questioned whether traditional \n",
      "copyright frameworks—built around the notion of the human creator—can fully capture works \n",
      "generated entirely by algorithmic processes (see, e.g., Samuelson, 1985; Jaszi, 2017). Bridy (2012), \n",
      "for example, challenges the entrenched assumption of uniquely human authorship by arguing that \n",
      "creativity itself is inherently algorithmic. She illustrates that even what we typically consider \n",
      "“human” creativity operates through rules and structured processes, suggesting that works produced \n",
      "autonomously by computers are not as alien to our creative paradigms as conventional law \n",
      "presumes. Her analysis underscores that, if the law is to remain relevant in an era increasingly \n",
      "2 Thaler v. Vidal, 43 F.4th 1207 (Fed. Cir. 2022).\n",
      "3 J 8/20 (EPO Board of Appeal, 2021); Thaler v. Comptroller-General of Patents, Designs, and Trademarks [2021]\n",
      "\n",
      "thereby creating significant ambiguity regarding the ownership of outputs from fully autonomous \n",
      "agentic AI systems.\n",
      "A case in point is DABUS, an AI system that generated novel inventions (a food container \n",
      "and a flashing beacon). Patent applications naming DABUS as the inventor triggered legal battles \n",
      "around the world. Thus far, patent offices and courts in major jurisdictions (US, UK, EU) have \n",
      "rejected AI inventorship, insisting that inventors must be natural persons. For instance, the US \n",
      "Federal Circuit in Thaler v. Vidal (2022) affirmed that under current statutes, only humans can be \n",
      "inventors.2 The European Patent Office and UK Patent Office reached similar conclusions.3 \n",
      "However, notable outliers exist: South Africa granted a patent with DABUS as inventor (albeit via a \n",
      "formality with no substantive examination).4 In Australia, the Federal Court (2021) initially ruled \n",
      "that AI could be an inventor under its law,5 but this was later overturned on appeal by the Full \n",
      "Federal Court of Australia in 2022.6 These divergent outcomes have spurred a rich body of \n",
      "literature. Kim (2020), for example, clarifies misconceptions in the AI inventor debate, urging that \n",
      "we “get the record straight” on how patent criteria apply when AI is involved. \n",
      "Moreover, this ambiguity is not new. Scholars have long questioned whether traditional \n",
      "copyright frameworks—built around the notion of the human creator—can fully capture works \n",
      "generated entirely by algorithmic processes (see, e.g., Samuelson, 1985; Jaszi, 2017). Bridy (2012), \n",
      "for example, challenges the entrenched assumption of uniquely human authorship by arguing that \n",
      "creativity itself is inherently algorithmic. She illustrates that even what we typically consider \n",
      "“human” creativity operates through rules and structured processes, suggesting that works produced \n",
      "autonomously by computers are not as alien to our creative paradigms as conventional law \n",
      "presumes. Her analysis underscores that, if the law is to remain relevant in an era increasingly \n",
      "2 Thaler v. Vidal, 43 F.4th 1207 (Fed. Cir. 2022).\n",
      "3 J 8/20 (EPO Board of Appeal, 2021); Thaler v. Comptroller-General of Patents, Designs, and Trademarks [2021]\n",
      "\n",
      "thereby creating significant ambiguity regarding the ownership of outputs from fully autonomous \n",
      "agentic AI systems.\n",
      "A case in point is DABUS, an AI system that generated novel inventions (a food container \n",
      "and a flashing beacon). Patent applications naming DABUS as the inventor triggered legal battles \n",
      "around the world. Thus far, patent offices and courts in major jurisdictions (US, UK, EU) have \n",
      "rejected AI inventorship, insisting that inventors must be natural persons. For instance, the US \n",
      "Federal Circuit in Thaler v. Vidal (2022) affirmed that under current statutes, only humans can be \n",
      "inventors.2 The European Patent Office and UK Patent Office reached similar conclusions.3 \n",
      "However, notable outliers exist: South Africa granted a patent with DABUS as inventor (albeit via a \n",
      "formality with no substantive examination).4 In Australia, the Federal Court (2021) initially ruled \n",
      "that AI could be an inventor under its law,5 but this was later overturned on appeal by the Full \n",
      "Federal Court of Australia in 2022.6 These divergent outcomes have spurred a rich body of \n",
      "literature. Kim (2020), for example, clarifies misconceptions in the AI inventor debate, urging that \n",
      "we “get the record straight” on how patent criteria apply when AI is involved. \n",
      "Moreover, this ambiguity is not new. Scholars have long questioned whether traditional \n",
      "copyright frameworks—built around the notion of the human creator—can fully capture works \n",
      "generated entirely by algorithmic processes (see, e.g., Samuelson, 1985; Jaszi, 2017). Bridy (2012), \n",
      "for example, challenges the entrenched assumption of uniquely human authorship by arguing that \n",
      "creativity itself is inherently algorithmic. She illustrates that even what we typically consider \n",
      "“human” creativity operates through rules and structured processes, suggesting that works produced \n",
      "autonomously by computers are not as alien to our creative paradigms as conventional law \n",
      "presumes. Her analysis underscores that, if the law is to remain relevant in an era increasingly \n",
      "2 Thaler v. Vidal, 43 F.4th 1207 (Fed. Cir. 2022).\n",
      "3 J 8/20 (EPO Board of Appeal, 2021); Thaler v. Comptroller-General of Patents, Designs, and Trademarks [2021]\n",
      "\n",
      "thereby creating significant ambiguity regarding the ownership of outputs from fully autonomous \n",
      "agentic AI systems.\n",
      "A case in point is DABUS, an AI system that generated novel inventions (a food container \n",
      "and a flashing beacon). Patent applications naming DABUS as the inventor triggered legal battles \n",
      "around the world. Thus far, patent offices and courts in major jurisdictions (US, UK, EU) have \n",
      "rejected AI inventorship, insisting that inventors must be natural persons. For instance, the US \n",
      "Federal Circuit in Thaler v. Vidal (2022) affirmed that under current statutes, only humans can be \n",
      "inventors.2 The European Patent Office and UK Patent Office reached similar conclusions.3 \n",
      "However, notable outliers exist: South Africa granted a patent with DABUS as inventor (albeit via a \n",
      "formality with no substantive examination).4 In Australia, the Federal Court (2021) initially ruled \n",
      "that AI could be an inventor under its law,5 but this was later overturned on appeal by the Full \n",
      "Federal Court of Australia in 2022.6 These divergent outcomes have spurred a rich body of \n",
      "literature. Kim (2020), for example, clarifies misconceptions in the AI inventor debate, urging that \n",
      "we “get the record straight” on how patent criteria apply when AI is involved. \n",
      "Moreover, this ambiguity is not new. Scholars have long questioned whether traditional \n",
      "copyright frameworks—built around the notion of the human creator—can fully capture works \n",
      "generated entirely by algorithmic processes (see, e.g., Samuelson, 1985; Jaszi, 2017). Bridy (2012), \n",
      "for example, challenges the entrenched assumption of uniquely human authorship by arguing that \n",
      "creativity itself is inherently algorithmic. She illustrates that even what we typically consider \n",
      "“human” creativity operates through rules and structured processes, suggesting that works produced \n",
      "autonomously by computers are not as alien to our creative paradigms as conventional law \n",
      "presumes. Her analysis underscores that, if the law is to remain relevant in an era increasingly \n",
      "2 Thaler v. Vidal, 43 F.4th 1207 (Fed. Cir. 2022).\n",
      "3 J 8/20 (EPO Board of Appeal, 2021); Thaler v. Comptroller-General of Patents, Designs, and Trademarks [2021]\n"
     ]
    }
   ],
   "source": [
    "print(documents)"
   ]
  },
  {
   "cell_type": "code",
   "execution_count": 375,
   "id": "7b54a1b3",
   "metadata": {},
   "outputs": [
    {
     "name": "stdout",
     "output_type": "stream",
     "text": [
      "According to U.S. Copyright Office policy in 2023, can works generated solely by AI be copyrighted\n"
     ]
    }
   ],
   "source": [
    "print(question)"
   ]
  },
  {
   "cell_type": "code",
   "execution_count": 376,
   "id": "25204b22",
   "metadata": {},
   "outputs": [
    {
     "name": "stdout",
     "output_type": "stream",
     "text": [
      "According to current U.S. Copyright Office policy, works generated solely by AI cannot be copyrighted. The law insists that inventors must be natural persons. However, the ownership of AI-generated works is a subject of much debate, with several notable outliers in the patenting of such inventions.\n"
     ]
    }
   ],
   "source": [
    "print(generation)"
   ]
  },
  {
   "cell_type": "code",
   "execution_count": 379,
   "id": "34ecc83c",
   "metadata": {},
   "outputs": [],
   "source": [
    "class AnswerGrade(BaseModel):\n",
    "    \"\"\"\n",
    "    Evaluates if the answer addresses the user’s question.\n",
    "    \"\"\"\n",
    "    answer_relevant: Literal[\"yes\", \"no\"] = Field(\n",
    "        description=\"Respond with 'yes' if the answer addresses the question; 'no' if it does not.\"\n",
    "    )\n",
    "\n",
    "\n",
    "preamble = \"\"\"\n",
    "You are a grader checking if an answer responds to a user's question.\n",
    "\n",
    "Respond:\n",
    "- 'yes' if the answer clearly relates to or addresses the question, even if it's not perfect.\n",
    "- 'no' if the answer is off-topic or unrelated.\n",
    "\n",
    "Only reply with 'yes' or 'no'.\n",
    "\"\"\"\n",
    "\n",
    "\n",
    "\n",
    "llm = ChatCohere(model=\"command-r\", temperature=0)\n",
    "answer_llm = llm.with_structured_output(AnswerGrade, preamble=preamble)\n",
    "\n",
    "\n",
    "answer_prompt = ChatPromptTemplate.from_messages(\n",
    "    [\n",
    "        (\"human\", \"User question: \\n\\n {question} \\n\\n LLM generation: {generation}\"),\n",
    "    ]\n",
    ")\n",
    "\n",
    "answer_chain = answer_prompt | answer_llm\n",
    "result = answer_chain.invoke({\"question\": question, \"generation\": generation})"
   ]
  },
  {
   "cell_type": "code",
   "execution_count": 380,
   "id": "dfe458d6",
   "metadata": {},
   "outputs": [
    {
     "name": "stdout",
     "output_type": "stream",
     "text": [
      "=== QUESTION ===\n",
      "According to U.S. Copyright Office policy in 2023, can works generated solely by AI be copyrighted\n",
      "=== GENERATION ===\n",
      "According to current U.S. Copyright Office policy, works generated solely by AI cannot be copyrighted. The law insists that inventors must be natural persons. However, the ownership of AI-generated works is a subject of much debate, with several notable outliers in the patenting of such inventions.\n",
      "=== RESULT ===\n",
      "yes\n"
     ]
    }
   ],
   "source": [
    "print(\"=== QUESTION ===\")\n",
    "print(question)\n",
    "print(\"=== GENERATION ===\")\n",
    "print(generation)\n",
    "print(\"=== RESULT ===\")\n",
    "print(result.answer_relevant)\n"
   ]
  },
  {
   "cell_type": "code",
   "execution_count": 381,
   "id": "ac850c76",
   "metadata": {},
   "outputs": [],
   "source": [
    "os.environ['TAVILY_API_KEY'] ='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'\n"
   ]
  },
  {
   "cell_type": "code",
   "execution_count": 382,
   "id": "341ed3b6",
   "metadata": {},
   "outputs": [
    {
     "name": "stderr",
     "output_type": "stream",
     "text": [
      "C:\\Users\\n07pa\\AppData\\Local\\Temp\\ipykernel_42000\\224678106.py:3: LangChainDeprecationWarning: The class `TavilySearchResults` was deprecated in LangChain 0.3.25 and will be removed in 1.0. An updated version of the class exists in the :class:`~langchain-tavily package and should be used instead. To use it run `pip install -U :class:`~langchain-tavily` and import as `from :class:`~langchain_tavily import TavilySearch``.\n",
      "  web_search_tool = TavilySearchResults()\n"
     ]
    }
   ],
   "source": [
    "\n",
    "from langchain_community.tools.tavily_search import TavilySearchResults\n",
    "\n",
    "web_search_tool = TavilySearchResults()"
   ]
  },
  {
   "cell_type": "code",
   "execution_count": null,
   "id": "4ddc5a2c",
   "metadata": {},
   "outputs": [],
   "source": []
  }
 ],
 "metadata": {
  "kernelspec": {
   "display_name": "venv",
   "language": "python",
   "name": "python3"
  },
  "language_info": {
   "codemirror_mode": {
    "name": "ipython",
    "version": 3
   },
   "file_extension": ".py",
   "mimetype": "text/x-python",
   "name": "python",
   "nbconvert_exporter": "python",
   "pygments_lexer": "ipython3",
   "version": "3.13.2"
  }
 },
 "nbformat": 4,
 "nbformat_minor": 5
}
