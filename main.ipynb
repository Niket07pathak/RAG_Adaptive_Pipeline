{
 "cells": [
  {
   "cell_type": "code",
   "execution_count": 92,
   "id": "65aa5010",
   "metadata": {},
   "outputs": [],
   "source": [
    "import os\n",
    "os.environ[\"COHERE_API_KEY\"] = '****************************************'\n",
    "os.environ['LANGCHAIN_TRACING_V2'] = 'true'\n",
    "os.environ['LANGCHAIN_ENDPOINT'] = 'https://api.smith.langchain.com'\n",
    "os.environ['LANGCHAIN_API_KEY'] ='*******************************************'"
   ]
  },
  {
   "cell_type": "code",
   "execution_count": 93,
   "id": "de0b9466",
   "metadata": {},
   "outputs": [],
   "source": [
    "from langchain.document_loaders import PyPDFDirectoryLoader\n",
    "from langchain.text_splitter import RecursiveCharacterTextSplitter\n",
    "\n",
    "#loading the documents from the folder\n",
    "loader = PyPDFDirectoryLoader(\"data/\")\n",
    "docs = loader.load()\n",
    "split_text=RecursiveCharacterTextSplitter.from_tiktoken_encoder(\n",
    "    chunk_size=512,\n",
    "    chunk_overlap=0\n",
    ")\n",
    "\n",
    "split_doc=split_text.split_documents(docs)"
   ]
  },
  {
   "cell_type": "code",
   "execution_count": 94,
   "id": "002c744d",
   "metadata": {},
   "outputs": [],
   "source": [
    "from langchain_cohere import CohereEmbeddings\n",
    "from langchain_community.vectorstores import Chroma\n",
    "\n",
    "cembed=CohereEmbeddings(model=\"embed-english-v3.0\")\n",
    "\n",
    "vec_store=Chroma.from_documents(\n",
    "    documents=split_doc,\n",
    "    embedding=cembed\n",
    ")\n"
   ]
  },
  {
   "cell_type": "code",
   "execution_count": 95,
   "id": "1f451547",
   "metadata": {},
   "outputs": [],
   "source": [
    "retriever = vec_store.as_retriever()"
   ]
  },
  {
   "cell_type": "code",
   "execution_count": 96,
   "id": "23357957",
   "metadata": {},
   "outputs": [],
   "source": [
    "from pydantic import BaseModel, Field\n"
   ]
  },
  {
   "cell_type": "markdown",
   "id": "7a4119ef",
   "metadata": {},
   "source": [
    "#ROuter"
   ]
  },
  {
   "cell_type": "code",
   "execution_count": 97,
   "id": "231d22af",
   "metadata": {},
   "outputs": [],
   "source": [
    "from langchain_cohere import ChatCohere\n",
    "from langchain_core.prompts import ChatPromptTemplate\n",
    "# from langchain_core.pydantic_v1 import BaseModel,Field\n",
    "\n",
    "class search_web(BaseModel):\n",
    "    \"\"\"Use web_search for all general queries not covered in the documents.\"\"\"\n",
    "    query: str = Field(description=\"The query to search on the internet.\")\n",
    "\n",
    "class vector_store(BaseModel):\n",
    "    \"\"\"Use vectorstore for questions on Agentic AI.\"\"\"\n",
    "    query: str = Field(description=\"The query to retrieve from the RAG vectorstore.\")\n",
    "\n",
    "\n",
    "\n",
    "    "
   ]
  },
  {
   "cell_type": "code",
   "execution_count": 98,
   "id": "ea6a64a9",
   "metadata": {},
   "outputs": [],
   "source": [
    "preamble = \"\"\"You are a router. Direct the user query to the appropriate tool based on topic relevance.\n",
    "\n",
    "Use the **vectorstore** if the user’s question relates to any of the following topics discussed in the documents:\n",
    "\n",
    "- Agentic AI systems and architectures\n",
    "- The role and future of Small Language Models (SLMs) in Agentic AI\n",
    "- Economic, legal, and operational implications of deploying Agentic AI\n",
    "- Prompt engineering, tool use, and modular AI agent design\n",
    "- Adversarial attacks or robustness concerns in LLM-based agents\n",
    "\n",
    "Use **web_search** if the question is unrelated to these domains or requires real-time, general, or external web information.\n",
    "\n",
    "\"\"\"\n"
   ]
  },
  {
   "cell_type": "code",
   "execution_count": null,
   "id": "53591eba",
   "metadata": {},
   "outputs": [],
   "source": []
  },
  {
   "cell_type": "code",
   "execution_count": 61,
   "id": "ec88f0b5",
   "metadata": {},
   "outputs": [],
   "source": [
    "llm = ChatCohere(model=\"command-r\",temperature=0)\n",
    "\n",
    "llm_router=llm.bind_tools(\n",
    "    tools=[search_web,vector_store] , preamble=preamble\n",
    ")"
   ]
  },
  {
   "cell_type": "markdown",
   "id": "d838880e",
   "metadata": {},
   "source": [
    "#This is testing purpose"
   ]
  },
  {
   "cell_type": "code",
   "execution_count": 62,
   "id": "7d5d25b3",
   "metadata": {},
   "outputs": [],
   "source": [
    "prompt= ChatPromptTemplate.from_messages([(\"human\", \"{question}\")])"
   ]
  },
  {
   "cell_type": "code",
   "execution_count": 63,
   "id": "ce1f3bc3",
   "metadata": {},
   "outputs": [],
   "source": [
    "ques_chain = prompt | llm_router"
   ]
  },
  {
   "cell_type": "code",
   "execution_count": 64,
   "id": "5b682289",
   "metadata": {},
   "outputs": [
    {
     "name": "stdout",
     "output_type": "stream",
     "text": [
      "[{'id': 'vector_store_baa4m0hq11qc', 'type': 'function', 'function': {'name': 'vector_store', 'arguments': '{\"query\":\"content ownership\"}'}}]\n"
     ]
    }
   ],
   "source": [
    "response = ques_chain.invoke(\n",
    "    {\"question\": \"Who owns the content made by agentic AI?\"}\n",
    ")\n",
    "print(response.response_metadata[\"tool_calls\"])\n",
    "\n"
   ]
  },
  {
   "cell_type": "code",
   "execution_count": 99,
   "id": "d1df3a4c",
   "metadata": {},
   "outputs": [],
   "source": [
    "from typing import Literal\n"
   ]
  },
  {
   "cell_type": "code",
   "execution_count": 100,
   "id": "948df688",
   "metadata": {},
   "outputs": [],
   "source": [
    "### Retrieval Grader\n",
    "\n",
    "\n",
    "# Data model\n",
    "class DocGrade(BaseModel):\n",
    "    relevance_label: Literal[\"yes\", \"no\"] = Field(\n",
    "        description=\"Only respond with 'yes' or 'no' — is the document relevant to the question?\"\n",
    "    )\n",
    "\n"
   ]
  },
  {
   "cell_type": "code",
   "execution_count": 101,
   "id": "f2c6b48a",
   "metadata": {},
   "outputs": [],
   "source": [
    "preamble = \"\"\"\n",
    "You are a grader assessing the relevance of a retrieved document to a user question.\n",
    "\n",
    "Relevance means that the document either:\n",
    "- Contains **keywords or phrases** from the question, OR\n",
    "- Has **semantic similarity** in meaning or intent to the question.\n",
    "\n",
    "You must assign a **binary relevance score**:\n",
    "- Respond `\"yes\"` if the document directly addresses or answers the question.\n",
    "- Respond `\"no\"` if it does not clearly relate to the question.\n",
    "\n",
    "Respond with only `\"yes\"` or `\"no\"` — no explanations or other values are allowed.\n",
    "\"\"\"\n"
   ]
  },
  {
   "cell_type": "code",
   "execution_count": 102,
   "id": "df591b4e",
   "metadata": {},
   "outputs": [
    {
     "name": "stdout",
     "output_type": "stream",
     "text": [
      "relevance_label='yes'\n"
     ]
    }
   ],
   "source": [
    "\n",
    "# LLM with function call\n",
    "llm = ChatCohere(model=\"command-r\", temperature=0)\n",
    "structured_llm_grader = llm.with_structured_output(DocGrade, preamble=preamble)\n",
    "\n",
    "grade_prompt = ChatPromptTemplate.from_messages(\n",
    "    [\n",
    "        (\"human\", \"Retrieved document: \\n\\n {document} \\n\\n User question: {question}\"),\n",
    "    ]\n",
    ")\n",
    "\n",
    "retrieval_grader = grade_prompt | structured_llm_grader\n",
    "question = \"According to U.S. Copyright Office policy in 2023, can works generated solely by AI be copyrighted\"\n",
    "docs = retriever.invoke(question)\n",
    "doc_txt = docs[1].page_content\n",
    "response = retrieval_grader.invoke({\"question\": question, \"document\": doc_txt})\n",
    "print(response)\n"
   ]
  },
  {
   "cell_type": "code",
   "execution_count": 103,
   "id": "effdcfec",
   "metadata": {},
   "outputs": [
    {
     "name": "stdout",
     "output_type": "stream",
     "text": [
      "thereby creating significant ambiguity regarding the ownership of outputs from fully autonomous \n",
      "agentic AI systems.\n",
      "A case in point is DABUS, an AI system that generated novel inventions (a food container \n",
      "and a flashing beacon). Patent applications naming DABUS as the inventor triggered legal battles \n",
      "around the world. Thus far, patent offices and courts in major jurisdictions (US, UK, EU) have \n",
      "rejected AI inventorship, insisting that inventors must be natural persons. For instance, the US \n",
      "Federal Circuit in Thaler v. Vidal (2022) affirmed that under current statutes, only humans can be \n",
      "inventors.2 The European Patent Office and UK Patent Office reached similar conclusions.3 \n",
      "However, notable outliers exist: South Africa granted a patent with DABUS as inventor (albeit via a \n",
      "formality with no substantive examination).4 In Australia, the Federal Court (2021) initially ruled \n",
      "that AI could be an inventor under its law,5 but this was later overturned on appeal by the Full \n",
      "Federal Court of Australia in 2022.6 These divergent outcomes have spurred a rich body of \n",
      "literature. Kim (2020), for example, clarifies misconceptions in the AI inventor debate, urging that \n",
      "we “get the record straight” on how patent criteria apply when AI is involved. \n",
      "Moreover, this ambiguity is not new. Scholars have long questioned whether traditional \n",
      "copyright frameworks—built around the notion of the human creator—can fully capture works \n",
      "generated entirely by algorithmic processes (see, e.g., Samuelson, 1985; Jaszi, 2017). Bridy (2012), \n",
      "for example, challenges the entrenched assumption of uniquely human authorship by arguing that \n",
      "creativity itself is inherently algorithmic. She illustrates that even what we typically consider \n",
      "“human” creativity operates through rules and structured processes, suggesting that works produced \n",
      "autonomously by computers are not as alien to our creative paradigms as conventional law \n",
      "presumes. Her analysis underscores that, if the law is to remain relevant in an era increasingly \n",
      "2 Thaler v. Vidal, 43 F.4th 1207 (Fed. Cir. 2022).\n",
      "3 J 8/20 (EPO Board of Appeal, 2021); Thaler v. Comptroller-General of Patents, Designs, and Trademarks [2021]\n"
     ]
    }
   ],
   "source": [
    "print(doc_txt)"
   ]
  },
  {
   "cell_type": "code",
   "execution_count": 104,
   "id": "7a6278da",
   "metadata": {},
   "outputs": [],
   "source": [
    "from langchain_core.messages import HumanMessage\n",
    "from langchain_core.output_parsers import StrOutputParser\n",
    "\n",
    "preamble = \"\"\"You are an assistant for question-answering tasks. Use the following pieces of retrieved context to answer the question. If you don't know the answer, just say that you don't know. Use three sentences maximum and keep the answer concise.\"\"\"\n",
    "\n",
    "\n",
    "llm = ChatCohere(model=\"command-r\",temperature=0).bind(preamble=preamble)"
   ]
  },
  {
   "cell_type": "code",
   "execution_count": 105,
   "id": "8e0db06b",
   "metadata": {},
   "outputs": [],
   "source": [
    "def prompt(x):\n",
    "    return ChatPromptTemplate.from_messages(\n",
    "        [\n",
    "            HumanMessage(\n",
    "                f\"Question: {x['question']} \\nAnswer: \",\n",
    "                additional_kwargs={\"documents\": x[\"documents\"]},\n",
    "            )\n",
    "        ]\n",
    "    )"
   ]
  },
  {
   "cell_type": "code",
   "execution_count": 106,
   "id": "fbb6b1c1",
   "metadata": {},
   "outputs": [
    {
     "name": "stdout",
     "output_type": "stream",
     "text": [
      "According to U.S. Copyright Office policy, works generated solely by AI have, historically, been tied to the notion of a human creator and are therefore not afforded the same copyright protections as human-created works. The involvement of AI in the creative process has led to significant ambiguity over ownership rights, with courts in major jurisdictions rejecting AI inventorship. However, the law on this matter remains unclear.\n"
     ]
    }
   ],
   "source": [
    "gen_chain = prompt | llm | StrOutputParser()\n",
    "\n",
    "generation = gen_chain.invoke({\"documents\": docs, \"question\": question})\n",
    "print(generation)"
   ]
  },
  {
   "cell_type": "code",
   "execution_count": 107,
   "id": "27bc53ce",
   "metadata": {},
   "outputs": [
    {
     "name": "stdout",
     "output_type": "stream",
     "text": [
      "Hello! I'm doing well, thank you for asking. How can I assist you today?\n"
     ]
    }
   ],
   "source": [
    "preamble = \"\"\"\n",
    "You are an assistant for question-answering tasks.\n",
    "\n",
    "Answer the user's question based on your general knowledge only — do not assume access to any external documents or context.\n",
    "\n",
    "Keep your answer concise and limited to a maximum of three sentences.\n",
    "If you are unsure or lack enough information, say \"I don't know.\"\n",
    "\n",
    "\"\"\"\n",
    "\n",
    "def prompt(x):\n",
    "    return ChatPromptTemplate.from_messages(\n",
    "        [HumanMessage(f\"Question: {x['question']} \\nAnswer: \")]\n",
    "    )\n",
    "\n",
    "llm_chain_fall_back = prompt | llm | StrOutputParser()\n",
    "\n",
    "# Run\n",
    "question_fall_back = \"Hi how are you?\"\n",
    "generation_fall_back = llm_chain_fall_back.invoke({\"question\": question_fall_back})\n",
    "print(generation_fall_back)\n"
   ]
  },
  {
   "cell_type": "code",
   "execution_count": 108,
   "id": "6424e05b",
   "metadata": {},
   "outputs": [
    {
     "data": {
      "text/plain": [
       "GradeHallucinations(binary_label='yes')"
      ]
     },
     "execution_count": 108,
     "metadata": {},
     "output_type": "execute_result"
    }
   ],
   "source": [
    "\n",
    "class GradeHallucinations(BaseModel):\n",
    "    \"\"\"Binary score for hallucination presence in the generated answer.\"\"\"\n",
    "    binary_label: Literal[\"yes\", \"no\"] = Field(\n",
    "        description=\"Respond only with 'yes' if the answer is grounded in the facts, 'no' if it is not\"\n",
    "    )\n",
    "\n",
    "\n",
    "preamble = \"\"\"\n",
    "You are a grader assessing whether a language model's answer is grounded in the given set of facts.\n",
    "\n",
    "Respond:\n",
    "- 'yes' → if the answer is fully supported by the facts.\n",
    "- 'no' → if any part of the answer is not supported by the facts.\n",
    "\n",
    "You MUST respond only with 'yes' or 'no'. Do not add any explanation or alternative labels.\n",
    "\"\"\"\n",
    "\n",
    "\n",
    "# LLM with function call\n",
    "llm = ChatCohere(model=\"command-r\", temperature=0)\n",
    "structured_llm_grader = llm.with_structured_output(\n",
    "    GradeHallucinations, preamble=preamble\n",
    ")\n",
    "\n",
    "# Prompt\n",
    "hallucination_prompt = ChatPromptTemplate.from_messages(\n",
    "    [\n",
    "        # (\"system\", system),\n",
    "        (\"human\", \"Set of facts: \\n\\n {documents} \\n\\n LLM generation: {generation}\"),\n",
    "    ]\n",
    ")\n",
    "documents = \"\\n\\n\".join([doc.page_content for doc in docs])\n",
    "\n",
    "\n",
    "hallucination_grader = hallucination_prompt | structured_llm_grader\n",
    "hallucination_grader.invoke({\"documents\": documents, \"generation\": generation})"
   ]
  },
  {
   "cell_type": "code",
   "execution_count": 109,
   "id": "4bcd5778",
   "metadata": {},
   "outputs": [
    {
     "name": "stdout",
     "output_type": "stream",
     "text": [
      "thereby creating significant ambiguity regarding the ownership of outputs from fully autonomous \n",
      "agentic AI systems.\n",
      "A case in point is DABUS, an AI system that generated novel inventions (a food container \n",
      "and a flashing beacon). Patent applications naming DABUS as the inventor triggered legal battles \n",
      "around the world. Thus far, patent offices and courts in major jurisdictions (US, UK, EU) have \n",
      "rejected AI inventorship, insisting that inventors must be natural persons. For instance, the US \n",
      "Federal Circuit in Thaler v. Vidal (2022) affirmed that under current statutes, only humans can be \n",
      "inventors.2 The European Patent Office and UK Patent Office reached similar conclusions.3 \n",
      "However, notable outliers exist: South Africa granted a patent with DABUS as inventor (albeit via a \n",
      "formality with no substantive examination).4 In Australia, the Federal Court (2021) initially ruled \n",
      "that AI could be an inventor under its law,5 but this was later overturned on appeal by the Full \n",
      "Federal Court of Australia in 2022.6 These divergent outcomes have spurred a rich body of \n",
      "literature. Kim (2020), for example, clarifies misconceptions in the AI inventor debate, urging that \n",
      "we “get the record straight” on how patent criteria apply when AI is involved. \n",
      "Moreover, this ambiguity is not new. Scholars have long questioned whether traditional \n",
      "copyright frameworks—built around the notion of the human creator—can fully capture works \n",
      "generated entirely by algorithmic processes (see, e.g., Samuelson, 1985; Jaszi, 2017). Bridy (2012), \n",
      "for example, challenges the entrenched assumption of uniquely human authorship by arguing that \n",
      "creativity itself is inherently algorithmic. She illustrates that even what we typically consider \n",
      "“human” creativity operates through rules and structured processes, suggesting that works produced \n",
      "autonomously by computers are not as alien to our creative paradigms as conventional law \n",
      "presumes. Her analysis underscores that, if the law is to remain relevant in an era increasingly \n",
      "2 Thaler v. Vidal, 43 F.4th 1207 (Fed. Cir. 2022).\n",
      "3 J 8/20 (EPO Board of Appeal, 2021); Thaler v. Comptroller-General of Patents, Designs, and Trademarks [2021]\n",
      "\n",
      "thereby creating significant ambiguity regarding the ownership of outputs from fully autonomous \n",
      "agentic AI systems.\n",
      "A case in point is DABUS, an AI system that generated novel inventions (a food container \n",
      "and a flashing beacon). Patent applications naming DABUS as the inventor triggered legal battles \n",
      "around the world. Thus far, patent offices and courts in major jurisdictions (US, UK, EU) have \n",
      "rejected AI inventorship, insisting that inventors must be natural persons. For instance, the US \n",
      "Federal Circuit in Thaler v. Vidal (2022) affirmed that under current statutes, only humans can be \n",
      "inventors.2 The European Patent Office and UK Patent Office reached similar conclusions.3 \n",
      "However, notable outliers exist: South Africa granted a patent with DABUS as inventor (albeit via a \n",
      "formality with no substantive examination).4 In Australia, the Federal Court (2021) initially ruled \n",
      "that AI could be an inventor under its law,5 but this was later overturned on appeal by the Full \n",
      "Federal Court of Australia in 2022.6 These divergent outcomes have spurred a rich body of \n",
      "literature. Kim (2020), for example, clarifies misconceptions in the AI inventor debate, urging that \n",
      "we “get the record straight” on how patent criteria apply when AI is involved. \n",
      "Moreover, this ambiguity is not new. Scholars have long questioned whether traditional \n",
      "copyright frameworks—built around the notion of the human creator—can fully capture works \n",
      "generated entirely by algorithmic processes (see, e.g., Samuelson, 1985; Jaszi, 2017). Bridy (2012), \n",
      "for example, challenges the entrenched assumption of uniquely human authorship by arguing that \n",
      "creativity itself is inherently algorithmic. She illustrates that even what we typically consider \n",
      "“human” creativity operates through rules and structured processes, suggesting that works produced \n",
      "autonomously by computers are not as alien to our creative paradigms as conventional law \n",
      "presumes. Her analysis underscores that, if the law is to remain relevant in an era increasingly \n",
      "2 Thaler v. Vidal, 43 F.4th 1207 (Fed. Cir. 2022).\n",
      "3 J 8/20 (EPO Board of Appeal, 2021); Thaler v. Comptroller-General of Patents, Designs, and Trademarks [2021]\n",
      "\n",
      "thereby creating significant ambiguity regarding the ownership of outputs from fully autonomous \n",
      "agentic AI systems.\n",
      "A case in point is DABUS, an AI system that generated novel inventions (a food container \n",
      "and a flashing beacon). Patent applications naming DABUS as the inventor triggered legal battles \n",
      "around the world. Thus far, patent offices and courts in major jurisdictions (US, UK, EU) have \n",
      "rejected AI inventorship, insisting that inventors must be natural persons. For instance, the US \n",
      "Federal Circuit in Thaler v. Vidal (2022) affirmed that under current statutes, only humans can be \n",
      "inventors.2 The European Patent Office and UK Patent Office reached similar conclusions.3 \n",
      "However, notable outliers exist: South Africa granted a patent with DABUS as inventor (albeit via a \n",
      "formality with no substantive examination).4 In Australia, the Federal Court (2021) initially ruled \n",
      "that AI could be an inventor under its law,5 but this was later overturned on appeal by the Full \n",
      "Federal Court of Australia in 2022.6 These divergent outcomes have spurred a rich body of \n",
      "literature. Kim (2020), for example, clarifies misconceptions in the AI inventor debate, urging that \n",
      "we “get the record straight” on how patent criteria apply when AI is involved. \n",
      "Moreover, this ambiguity is not new. Scholars have long questioned whether traditional \n",
      "copyright frameworks—built around the notion of the human creator—can fully capture works \n",
      "generated entirely by algorithmic processes (see, e.g., Samuelson, 1985; Jaszi, 2017). Bridy (2012), \n",
      "for example, challenges the entrenched assumption of uniquely human authorship by arguing that \n",
      "creativity itself is inherently algorithmic. She illustrates that even what we typically consider \n",
      "“human” creativity operates through rules and structured processes, suggesting that works produced \n",
      "autonomously by computers are not as alien to our creative paradigms as conventional law \n",
      "presumes. Her analysis underscores that, if the law is to remain relevant in an era increasingly \n",
      "2 Thaler v. Vidal, 43 F.4th 1207 (Fed. Cir. 2022).\n",
      "3 J 8/20 (EPO Board of Appeal, 2021); Thaler v. Comptroller-General of Patents, Designs, and Trademarks [2021]\n",
      "\n",
      "Today, one could even argue that an AI's ‘creative spark’ originates from a commissioning \n",
      "human or from its training on human-created data, tying this debate to long-standing discussions \n",
      "about the level of human involvement required for copyright protection. Specifically, Burrow-Giles \n",
      "Lithographic Co. v. Sarony (1884) established that a photograph could be copyrighted because the \n",
      "photographer exercised creative choices, even though a machine (the camera) was involved. \n",
      "However, as agentic AI evolves—training increasingly on AI-generated data and even being \n",
      "commissioned by other AI systems (e.g., a creative agentic AI hired by an interior decorating \n",
      "agentic AI, acting on behalf of a human)—can the creative spark (if any) still be meaningfully \n",
      "traced back to a human?\n",
      "This increasingly tenuous connection between human input and AI output has profound \n",
      "practical consequences, particularly in intellectual property and compensation. Royalties that once \n",
      "flowed to photographers manually selecting AI-generated images may instead concentrate with AI \n",
      "developers whose systems autonomously produce and publish complete photo essays. This transfer \n",
      "of credit mirrors historical debates around corporate authorship but with a critical divergence: \n",
      "unlike corporate ‘works made for hire,’ agentic systems lack legal personhood to hold residual \n",
      "rights (Gervais, 2019). The resulting void creates perverse incentives. On the one hand, why invest \n",
      "in human creativity when autonomous systems can generate patentable designs or copyrighted \n",
      "content at scale without royalty obligations? On the other hand, why invest in AI creativity when AI \n",
      "systems cannot possess IP rights, and therefore cannot collect royalties?\n",
      "Moreover, the traditional justification for copyright—to “promote Progress” by incentivizing \n",
      "human creators (U.S. Const. art. I, § 8)—becomes increasingly tenuous when AI serves as both \n",
      "creator and perpetual innovator. If an agentic system conceives and executes a novel semiconductor \n",
      "design without human intervention, the absence of copyright protection might stifle commercial \n",
      "investment. Yet granting rights to developers risks creating infinite patent trolls—AI systems \n",
      "autonomously generating and hoarding intellectual property. This paradox reveals how agentic AI \n",
      "9\n"
     ]
    }
   ],
   "source": [
    "print(documents)"
   ]
  },
  {
   "cell_type": "code",
   "execution_count": 110,
   "id": "7b54a1b3",
   "metadata": {},
   "outputs": [
    {
     "name": "stdout",
     "output_type": "stream",
     "text": [
      "According to U.S. Copyright Office policy in 2023, can works generated solely by AI be copyrighted\n"
     ]
    }
   ],
   "source": [
    "print(question)"
   ]
  },
  {
   "cell_type": "code",
   "execution_count": 111,
   "id": "25204b22",
   "metadata": {},
   "outputs": [
    {
     "name": "stdout",
     "output_type": "stream",
     "text": [
      "According to U.S. Copyright Office policy, works generated solely by AI have, historically, been tied to the notion of a human creator and are therefore not afforded the same copyright protections as human-created works. The involvement of AI in the creative process has led to significant ambiguity over ownership rights, with courts in major jurisdictions rejecting AI inventorship. However, the law on this matter remains unclear.\n"
     ]
    }
   ],
   "source": [
    "print(generation)"
   ]
  },
  {
   "cell_type": "code",
   "execution_count": 112,
   "id": "34ecc83c",
   "metadata": {},
   "outputs": [],
   "source": [
    "class AnswerGrade(BaseModel):\n",
    "    \"\"\"\n",
    "    Evaluates if the answer addresses the user’s question.\n",
    "    \"\"\"\n",
    "    label: Literal[\"yes\", \"no\"] = Field(\n",
    "        description=\"Only return 'yes' or 'no'\"\n",
    "    )\n",
    "\n",
    "\n",
    "preamble = \"\"\"\n",
    "You are a grader checking if an answer correctly responds to a user's question.\n",
    "\n",
    "Respond:\n",
    "- 'yes' if the answer  relates to or addresses the question, even if it's not perfect.\n",
    "- 'no' if the answer is off-topic or unrelated to the question given.\n",
    "\n",
    "Only reply with 'yes' or 'no'.\n",
    "\"\"\"\n",
    "\n",
    "\n",
    "\n",
    "llm = ChatCohere(model=\"command-r\", temperature=0)\n",
    "answer_llm = llm.with_structured_output(AnswerGrade, preamble=preamble)\n",
    "\n",
    "\n",
    "answer_prompt = ChatPromptTemplate.from_messages([\n",
    "    (\"system\", \"You are a grader. Respond only with 'yes' or 'no'.\"),\n",
    "    (\"human\", \"User question: Can AI-generated images be copyrighted?\\nLLM generation: AI-generated images without human input cannot be copyrighted.\\nAnswer:\"),\n",
    "    (\"ai\", \"yes\"),\n",
    "    (\"human\", \"User question: What is the capital of France?\\nLLM generation: Apples are red and green.\\nAnswer:\"),\n",
    "    (\"ai\", \"no\"),\n",
    "    (\"human\", \"User question: \\n\\n{question}\\n\\nLLM generation: \\n\\n{generation}\")\n",
    "])\n",
    "\n",
    "\n",
    "answer_chain = answer_prompt | answer_llm\n",
    "result = answer_chain.invoke({\"question\": question, \"generation\": generation})"
   ]
  },
  {
   "cell_type": "code",
   "execution_count": 113,
   "id": "dfe458d6",
   "metadata": {},
   "outputs": [
    {
     "name": "stdout",
     "output_type": "stream",
     "text": [
      "=== QUESTION ===\n",
      "According to U.S. Copyright Office policy in 2023, can works generated solely by AI be copyrighted\n",
      "=== GENERATION ===\n",
      "According to U.S. Copyright Office policy, works generated solely by AI have, historically, been tied to the notion of a human creator and are therefore not afforded the same copyright protections as human-created works. The involvement of AI in the creative process has led to significant ambiguity over ownership rights, with courts in major jurisdictions rejecting AI inventorship. However, the law on this matter remains unclear.\n",
      "=== RESULT ===\n",
      "yes\n"
     ]
    }
   ],
   "source": [
    "print(\"=== QUESTION ===\")\n",
    "print(question)\n",
    "print(\"=== GENERATION ===\")\n",
    "print(generation)\n",
    "print(\"=== RESULT ===\")\n",
    "print(result.label)\n"
   ]
  },
  {
   "cell_type": "code",
   "execution_count": 114,
   "id": "d9e27d99",
   "metadata": {},
   "outputs": [
    {
     "name": "stdout",
     "output_type": "stream",
     "text": [
      "content=\"That's correct. The U.S. Copyright Office does not currently afford copyright protection to works generated solely by AI. The office maintains the position that copyright protection extends only to works created by human authors, with AI involvement seen as an ambiguity that courts in many jurisdictions have also rejected. This is a rapidly evolving area of law, but the current policy leans towards the human creator being the only recognized copyright owner.\" additional_kwargs={'id': 'a426eced-f7aa-4610-94d0-0a07db910038', 'finish_reason': 'COMPLETE', 'content': \"That's correct. The U.S. Copyright Office does not currently afford copyright protection to works generated solely by AI. The office maintains the position that copyright protection extends only to works created by human authors, with AI involvement seen as an ambiguity that courts in many jurisdictions have also rejected. This is a rapidly evolving area of law, but the current policy leans towards the human creator being the only recognized copyright owner.\", 'token_count': {'input_tokens': 181.0, 'output_tokens': 83.0}} response_metadata={'id': 'a426eced-f7aa-4610-94d0-0a07db910038', 'finish_reason': 'COMPLETE', 'content': \"That's correct. The U.S. Copyright Office does not currently afford copyright protection to works generated solely by AI. The office maintains the position that copyright protection extends only to works created by human authors, with AI involvement seen as an ambiguity that courts in many jurisdictions have also rejected. This is a rapidly evolving area of law, but the current policy leans towards the human creator being the only recognized copyright owner.\", 'token_count': {'input_tokens': 181.0, 'output_tokens': 83.0}} id='run--8e747f90-c387-4905-a798-9565f3bc2086-0' usage_metadata={'input_tokens': 181, 'output_tokens': 83, 'total_tokens': 264}\n"
     ]
    }
   ],
   "source": [
    "print(llm.invoke(\"User question: \" + question + \"\\nLLM generation: \" + generation + \"\\nAnswer:\"))\n"
   ]
  },
  {
   "cell_type": "code",
   "execution_count": 115,
   "id": "ac850c76",
   "metadata": {},
   "outputs": [],
   "source": [
    "os.environ['TAVILY_API_KEY'] ='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'\n"
   ]
  },
  {
   "cell_type": "code",
   "execution_count": 136,
   "id": "341ed3b6",
   "metadata": {},
   "outputs": [],
   "source": [
    "\n",
    "from langchain_community.tools.tavily_search import TavilySearchResults\n",
    "\n",
    "web_search_tool = TavilySearchResults()"
   ]
  },
  {
   "cell_type": "code",
   "execution_count": 137,
   "id": "4ddc5a2c",
   "metadata": {},
   "outputs": [],
   "source": [
    "from typing import List\n",
    "from typing_extensions import TypedDict\n",
    "\n",
    "class GraphState(TypedDict):\n",
    "    \"\"\"\n",
    "    State of the graph\n",
    "    question\n",
    "    llm generation\n",
    "    documents\n",
    "    \"\"\"\n",
    "\n",
    "    question:str\n",
    "    generation:str\n",
    "    documents:List[str]"
   ]
  },
  {
   "cell_type": "code",
   "execution_count": 138,
   "id": "7c8a6d39",
   "metadata": {},
   "outputs": [],
   "source": [
    "def DocRetrieve(state):\n",
    "    print(\"Retriever State\")\n",
    "    question = state[\"question\"]\n",
    "\n",
    "    docs = retriever.invoke(question)\n",
    "    return {\"documents\":docs,\"question\":question}"
   ]
  },
  {
   "cell_type": "code",
   "execution_count": 139,
   "id": "55998b5a",
   "metadata": {},
   "outputs": [],
   "source": [
    "def fallback_llm(state):\n",
    "    print(\"llm fallback\")\n",
    "    question = state[\"question\"]\n",
    "    gen=llm_chain_fall_back.invoke({\"question\":question})\n",
    "    return {\"question\":question,\"generation\":gen}"
   ]
  },
  {
   "cell_type": "code",
   "execution_count": 195,
   "id": "4644a195",
   "metadata": {},
   "outputs": [],
   "source": [
    "def AnswerGenerate(state):\n",
    "    print(\"Answer Generator\")\n",
    "    \n",
    "    question = state[\"question\"]\n",
    "    docs = state[\"documents\"]\n",
    "\n",
    "    # if not isinstance(docs, list):\n",
    "    #     docs = [docs]\n",
    "\n",
    "    # # Convert document list to plain text\n",
    "    # doc_text = \"\\n\\n\".join([doc.page_content for doc in docs])\n",
    "\n",
    "    # # Call generation chain\n",
    "    gen = gen_chain.invoke({\"documents\": docs, \"question\": question})\n",
    "\n",
    "    return {\n",
    "        \"documents\": docs,\n",
    "        \"question\": question,\n",
    "        \"generation\": gen\n",
    "    }\n"
   ]
  },
  {
   "cell_type": "code",
   "execution_count": 196,
   "id": "12adf89a",
   "metadata": {},
   "outputs": [],
   "source": [
    "def DocumentGrader(state):\n",
    "    print(\"Document Grader\")\n",
    "    question=state[\"question\"]\n",
    "    docs=state['documents']\n",
    "\n",
    "    relevant_docs=[]\n",
    "    for doc in docs:\n",
    "        label =retrieval_grader.invoke({\"question\":question , \"document\":doc.page_content})\n",
    "        \n",
    "        if label.relevance_label == \"yes\":\n",
    "            print(\"Relevant Document\")\n",
    "            relevant_docs.append(doc)\n",
    "        else:\n",
    "            print(\"Not relevant\")\n",
    "            continue\n",
    "    return{\"documents\":relevant_docs,\"question\":question}            "
   ]
  },
  {
   "cell_type": "code",
   "execution_count": 197,
   "id": "c7e84dc7",
   "metadata": {},
   "outputs": [],
   "source": [
    "\n",
    "def Search_web(state):\n",
    "   \n",
    "\n",
    "    print(\"web search\")\n",
    "    question = state[\"question\"]\n",
    "\n",
    "\n",
    "    docs = web_search_tool.invoke({\"query\": question})\n",
    "    web_results = \"\\n\".join([d[\"content\"] for d in docs])\n",
    "    web_results = Document(page_content=web_results)\n",
    "\n",
    "    return {\"documents\": web_results, \"question\": question}\n"
   ]
  },
  {
   "cell_type": "code",
   "execution_count": 198,
   "id": "190cb190",
   "metadata": {},
   "outputs": [],
   "source": [
    "#edges"
   ]
  },
  {
   "cell_type": "code",
   "execution_count": 206,
   "id": "129f353f",
   "metadata": {},
   "outputs": [],
   "source": [
    "def QuestionRouter(state):\n",
    "    print(\"Question Router\")\n",
    "    question=state[\"question\"]\n",
    "\n",
    "    decision = ques_chain.invoke({\"question\" : question})\n",
    "\n",
    "    if \"tool_calls\" not in decision.additional_kwargs:\n",
    "        print(\"Routing to LLM\")\n",
    "        return \"llm_fallback\"\n",
    "    if len(decision.additional_kwargs[\"tool_calls\"]) == 0:\n",
    "        raise \"Router could not decide source\"\n",
    "\n",
    "    store = decision.additional_kwargs[\"tool_calls\"][0][\"function\"][\"name\"]\n",
    "    if store == \"search_web\":\n",
    "        print(\"WEB SEARCH\")\n",
    "        return \"web_search\"\n",
    "    elif store == \"vector_store\":\n",
    "        print(\"RAG\")\n",
    "        return \"vectorstore\"\n",
    "    else:\n",
    "        print(\"LLM\")\n",
    "        return \"llm_fallback\""
   ]
  },
  {
   "cell_type": "code",
   "execution_count": 207,
   "id": "c51721a0",
   "metadata": {},
   "outputs": [],
   "source": [
    "def DecisionGenerate(state):\n",
    "    print(\"Decision to Generate or websearch\")\n",
    "\n",
    "    rel_doc = state[\"documents\"]\n",
    "\n",
    "    if not rel_doc:\n",
    "        print(\"Web Search\")\n",
    "        return \"web_search\"\n",
    "    else:\n",
    "        print(\"Generate\")\n",
    "        return \"generate\"\n"
   ]
  },
  {
   "cell_type": "code",
   "execution_count": 208,
   "id": "605f2756",
   "metadata": {},
   "outputs": [],
   "source": [
    "def GradeHallucination_answer(state):\n",
    "   \n",
    "    print(\"Hallucination Checker Module\")\n",
    "    question = state[\"question\"]\n",
    "    docs = state[\"documents\"]\n",
    "    gen = state[\"generation\"]\n",
    "\n",
    "    doc_str = \"\\n\\n\".join([doc.page_content for doc in docs])\n",
    "\n",
    "\n",
    "    score = hallucination_grader.invoke(\n",
    "        {\"documents\": doc_str, \"generation\": gen}\n",
    "    )\n",
    "    grade = score.binary_label\n",
    "\n",
    "    if grade == \"yes\":\n",
    "        print(\"Generation is Grounded\")\n",
    "        \n",
    "        print(\"Answer vs question\")\n",
    "        score = answer_chain.invoke({\"question\": question, \"generation\": generation})\n",
    "        grade = score.label\n",
    "        if grade == \"yes\":\n",
    "            print(\"Answer Address Question\")\n",
    "            return \"useful\"\n",
    "        else:\n",
    "            print(\"Answer does not Address Question\")\n",
    "            return \"not useful\"\n",
    "    else:\n",
    "        print(\"Not Grounded\")\n",
    "        return \"not supported\"\n"
   ]
  },
  {
   "cell_type": "code",
   "execution_count": 209,
   "id": "e7874ace",
   "metadata": {},
   "outputs": [],
   "source": [
    "import pprint\n",
    "from langgraph.graph import END, StateGraph, START\n",
    "\n",
    "# Define your graph with the shared state class\n",
    "workflow = StateGraph(GraphState)\n",
    "\n",
    "#  Node Definitions\n",
    "workflow.add_node(\"web_search\", search_web)  \n",
    "workflow.add_node(\"retrieve\", DocRetrieve)  \n",
    "workflow.add_node(\"grade_documents\", DocumentGrader)  \n",
    "workflow.add_node(\"generate\", AnswerGenerate) \n",
    "workflow.add_node(\"llm_fallback\", fallback_llm)  \n",
    "\n",
    "workflow.add_conditional_edges(\n",
    "    START,\n",
    "    QuestionRouter,\n",
    "    {\n",
    "        \"web_search\": \"web_search\",\n",
    "        \"vectorstore\": \"retrieve\",  \n",
    "        \"llm_fallback\": \"llm_fallback\", \n",
    "    },\n",
    ")\n",
    "\n",
    "workflow.add_edge(\"web_search\", \"retrieve\")\n",
    "\n",
    "workflow.add_edge(\"retrieve\", \"grade_documents\")\n",
    "\n",
    "workflow.add_conditional_edges(\n",
    "    \"grade_documents\",\n",
    "    DecisionGenerate,\n",
    "    {\n",
    "        \"web_search\": \"web_search\",       \n",
    "        \"generate\": \"generate\",          \n",
    "    },\n",
    ")\n",
    "\n",
    "workflow.add_conditional_edges(\n",
    "    \"generate\",\n",
    "    GradeHallucination_answer,\n",
    "    {\n",
    "        \"not supported\": \"generate\",   \n",
    "        \"not useful\": \"web_search\",    \n",
    "        \"useful\": END,                 \n",
    "    },\n",
    ")\n",
    "\n",
    "workflow.add_edge(\"llm_fallback\", END)\n",
    "\n",
    "app = workflow.compile()\n"
   ]
  },
  {
   "cell_type": "code",
   "execution_count": 204,
   "id": "162eb34d",
   "metadata": {},
   "outputs": [
    {
     "name": "stdout",
     "output_type": "stream",
     "text": [
      "Question Router\n",
      "RAG\n",
      "Retriever State\n",
      "\"Node 'retrieve':\"\n",
      "'\\n---\\n'\n",
      "Document Grader\n",
      "Relevant Document\n",
      "Relevant Document\n",
      "Relevant Document\n",
      "Relevant Document\n",
      "Decision to Generate or websearch\n",
      "Generate\n",
      "\"Node 'grade_documents':\"\n",
      "'\\n---\\n'\n",
      "Answer Generator\n",
      "Hallucination Checker Module\n",
      "Generation is Grounded\n",
      "Answer vs question\n",
      "Answer Address Question\n",
      "\"Node 'generate':\"\n",
      "'\\n---\\n'\n",
      "('The ownership of content generated by agentic AI is a legal ambiguity. '\n",
      " 'Current frameworks suggest the researcher or influencer who commissioned it '\n",
      " \"might own the content, but this is a challenge that's reshaping law. AI \"\n",
      " 'service providers and AIs themselves might also claim ownership.')\n"
     ]
    }
   ],
   "source": [
    "inputs = {\n",
    "    \"question\": \"Who owns the content made by agentic AI\"\n",
    "}\n",
    "for output in app.stream(inputs):\n",
    "    for key, value in output.items():\n",
    "        # Node\n",
    "        pprint.pprint(f\"Node '{key}':\")\n",
    "        # Optional: print full state at each node\n",
    "    pprint.pprint(\"\\n---\\n\")\n",
    "\n",
    "# Final generation\n",
    "pprint.pprint(value[\"generation\"])\n"
   ]
  },
  {
   "cell_type": "code",
   "execution_count": 211,
   "id": "afe7e8cd",
   "metadata": {},
   "outputs": [
    {
     "name": "stdout",
     "output_type": "stream",
     "text": [
      "Question Router\n",
      "Routing to LLM\n",
      "llm fallback\n",
      "\"Node 'llm_fallback':\"\n",
      "'\\n---\\n'\n",
      "(\"Hello! I'm doing well, thank you for asking. How about you? I hope you're \"\n",
      " 'having a fantastic day!')\n"
     ]
    }
   ],
   "source": [
    "\n",
    "inputs = {\"question\": \"Hello, how are you today?\"}\n",
    "for output in app.stream(inputs):\n",
    "    for key, value in output.items():\n",
    "        # Node\n",
    "        pprint.pprint(f\"Node '{key}':\")\n",
    "    pprint.pprint(\"\\n---\\n\")\n",
    "\n",
    "# Final generation\n",
    "pprint.pprint(value[\"generation\"])"
   ]
  },
  {
   "cell_type": "code",
   "execution_count": null,
   "id": "2a8093b0",
   "metadata": {},
   "outputs": [],
   "source": []
  },
  {
   "cell_type": "code",
   "execution_count": null,
   "id": "23deb9de",
   "metadata": {},
   "outputs": [],
   "source": []
  }
 ],
 "metadata": {
  "kernelspec": {
   "display_name": "venv",
   "language": "python",
   "name": "python3"
  },
  "language_info": {
   "codemirror_mode": {
    "name": "ipython",
    "version": 3
   },
   "file_extension": ".py",
   "mimetype": "text/x-python",
   "name": "python",
   "nbconvert_exporter": "python",
   "pygments_lexer": "ipython3",
   "version": "3.13.2"
  }
 },
 "nbformat": 4,
 "nbformat_minor": 5
}
